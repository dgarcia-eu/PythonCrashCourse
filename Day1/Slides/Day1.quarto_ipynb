{
  "cells": [
    {
      "cell_type": "markdown",
      "metadata": {},
      "source": [
        "---\n",
        "title: \"Introduction to Programming with Python, Day1\"\n",
        "author: \"David Garcia, University of Konstanz\"\n",
        "format: revealjs\n",
        "editor: visual\n",
        "---\n",
        "\n",
        "\n",
        "## About me\n",
        "\n",
        "About me\n",
        "\n",
        "## Course aims\n",
        "\n",
        "course aims\n",
        "\n",
        "## Target audience\n",
        "\n",
        "Who has coded before?\n",
        "Who in python?\n",
        "target audience\n",
        "\n",
        "\n",
        "## Teaching philosophy\n",
        "\n",
        "notebook-based\n",
        "daily assignments\n",
        "harder for more advanced students\n",
        "\n",
        "## Course grading\n",
        "- Mandatory assignments each day\n",
        "  - how to submit, deadline\n",
        "- Final written exam\n",
        "\n",
        "## Warning about vibe coding (e.g. ChatGPT)\n",
        "\n",
        "\n",
        "\n",
        "## Code\n",
        "\n",
        "When you click the **Render** button a presentation will be generated that includes both content and the output of embedded code. You can embed code like this:\n"
      ],
      "id": "fd2411db"
    },
    {
      "cell_type": "code",
      "metadata": {},
      "source": [
        "a = [1, 100]\n",
        "b = a\n",
        "b[0] = 0\n",
        "print(a)"
      ],
      "id": "8b81fda1",
      "execution_count": null,
      "outputs": []
    }
  ],
  "metadata": {
    "kernelspec": {
      "display_name": "Python 3",
      "language": "python",
      "name": "python3"
    }
  },
  "nbformat": 4,
  "nbformat_minor": 5
}