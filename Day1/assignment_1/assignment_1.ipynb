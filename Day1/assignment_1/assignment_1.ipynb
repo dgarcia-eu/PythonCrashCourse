{
 "cells": [
  {
   "cell_type": "markdown",
   "metadata": {},
   "source": [
    "### Assignment 1: Variables, Strings, Numbers, Lists, and Loops\n",
    "\n",
    "Winter Semester 2025/26\n",
    "\n",
    "Total Score: 20 - 10 points needed to pass\n",
    "\n",
    "Submission Deadline: Monday, October 13, 23:59\n",
    "\n"
   ]
  },
  {
   "cell_type": "markdown",
   "metadata": {},
   "source": [
    "---"
   ]
  },
  {
   "cell_type": "markdown",
   "metadata": {},
   "source": [
    "The code below reads a text file containing an excerpt from the novel \"The Old Man and the Sea\". The text is stored in a variable named text. Before running the code, you need to save the file 'theoldmanandthesea.txt' in your working directory.\n",
    "\n",
    "\n",
    "You can check your current working directory using the following code."
   ]
  },
  {
   "cell_type": "code",
   "execution_count": 2,
   "metadata": {},
   "outputs": [],
   "source": [
    "with open('theoldmanandthesea.txt', 'r') as f:\n",
    "    text = f.read()"
   ]
  },
  {
   "cell_type": "markdown",
   "metadata": {},
   "source": [
    "## Tasks\n",
    "\n",
    "1. Print the text (1 point)."
   ]
  },
  {
   "cell_type": "code",
   "execution_count": 3,
   "metadata": {},
   "outputs": [],
   "source": [
    "# Your code"
   ]
  },
  {
   "cell_type": "markdown",
   "metadata": {},
   "source": [
    "2. Convert all uppercase characters to lowercase in the text. From now on keep on working with the text converted to lowercase (1 point)."
   ]
  },
  {
   "cell_type": "code",
   "execution_count": 4,
   "metadata": {},
   "outputs": [],
   "source": [
    "# Your code"
   ]
  },
  {
   "cell_type": "markdown",
   "metadata": {},
   "source": [
    "3. Split the text into a list of words named **text_split**, where each word is an item in the list (1 point)."
   ]
  },
  {
   "cell_type": "code",
   "execution_count": 5,
   "metadata": {},
   "outputs": [],
   "source": [
    "# Your code"
   ]
  },
  {
   "cell_type": "markdown",
   "metadata": {},
   "source": [
    "4. Count and print the number of words in the list (1 point)."
   ]
  },
  {
   "cell_type": "code",
   "execution_count": 6,
   "metadata": {},
   "outputs": [],
   "source": [
    "# Your code"
   ]
  },
  {
   "cell_type": "markdown",
   "metadata": {},
   "source": [
    "5. Create a variable called **next_text** that contains the following (1 point):\n",
    "\n",
    "    \"Everything about him was old except his eyes and they were the same color as the sea and were cheerful and undefeated.\"\n"
   ]
  },
  {
   "cell_type": "code",
   "execution_count": 7,
   "metadata": {},
   "outputs": [],
   "source": [
    "# Your code"
   ]
  },
  {
   "cell_type": "markdown",
   "metadata": {},
   "source": [
    "6. Modify **next_text** so it contains line breaks such that each word is in a new line (2 points). \n",
    "    \n",
    "    Expected output of **print(next_text)** after modification:  \n",
    "\n",
    "    Everything  \n",
    "    about  \n",
    "    him  \n",
    "    was  \n",
    "    old  \n",
    "    except  \n",
    "    ...\n",
    "\n",
    "   You should not use a loop for printing here, you have to modify **next_text**."
   ]
  },
  {
   "cell_type": "code",
   "execution_count": 8,
   "metadata": {},
   "outputs": [],
   "source": [
    "# Your code"
   ]
  },
  {
   "cell_type": "markdown",
   "metadata": {},
   "source": [
    "7. Update **text_split** by adding the words from **next_text**, so it becomes a single list (2 points).\n",
    "\n",
    "    Expected outcome of **print(text_split)** after updating it:  \n",
    "    \n",
    "    ['he', 'was', 'an', 'old', 'man',..., 'cheerful', 'and', 'undefeated.']"
   ]
  },
  {
   "cell_type": "code",
   "execution_count": 9,
   "metadata": {},
   "outputs": [],
   "source": [
    "# Your code"
   ]
  },
  {
   "cell_type": "markdown",
   "metadata": {},
   "source": [
    "8. Write a code to calculate and print the sum of the lengths of all words in **text_split** using a loop. Print the word, its length, and the cumulative length at each iteration and at the end print the final total count in one line (4 points).\n",
    "   \n",
    "    Example output:  \n",
    "    word: he; length: 2; cumulative count: 2  \n",
    "    word: was; length: 3; cumulative count: 5  \n",
    "    ...  \n",
    "    word: undefeated.; length: 11; cumulative count: 1022\n",
    "\n",
    "    total count : 1022"
   ]
  },
  {
   "cell_type": "code",
   "execution_count": 10,
   "metadata": {},
   "outputs": [],
   "source": [
    "# Your code"
   ]
  },
  {
   "cell_type": "markdown",
   "metadata": {},
   "source": [
    "9. Create a list named **len_of_words** containing the length of each word in text_split (4 points).\n",
    "\n",
    "    [2, 3, 2, 3, 3, 3, ...]"
   ]
  },
  {
   "cell_type": "code",
   "execution_count": 11,
   "metadata": {},
   "outputs": [],
   "source": [
    "# Your code"
   ]
  },
  {
   "cell_type": "markdown",
   "metadata": {},
   "source": [
    "10. Find and print the length of the longest word in the text (1 point)."
   ]
  },
  {
   "cell_type": "code",
   "execution_count": 12,
   "metadata": {},
   "outputs": [],
   "source": [
    "# Your code"
   ]
  },
  {
   "cell_type": "markdown",
   "metadata": {},
   "source": [
    "11. Identify and print the longest word using the index from **len_of_words** (2 points)."
   ]
  },
  {
   "cell_type": "code",
   "execution_count": 13,
   "metadata": {},
   "outputs": [],
   "source": [
    "# Your code"
   ]
  }
 ],
 "metadata": {
  "kernelspec": {
   "display_name": "Python [conda env:base] *",
   "language": "python",
   "name": "conda-base-py"
  },
  "language_info": {
   "codemirror_mode": {
    "name": "ipython",
    "version": 3
   },
   "file_extension": ".py",
   "mimetype": "text/x-python",
   "name": "python",
   "nbconvert_exporter": "python",
   "pygments_lexer": "ipython3",
   "version": "3.13.5"
  }
 },
 "nbformat": 4,
 "nbformat_minor": 4
}
