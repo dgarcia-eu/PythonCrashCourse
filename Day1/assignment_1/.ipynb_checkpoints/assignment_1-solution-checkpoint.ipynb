{
 "cells": [
  {
   "cell_type": "markdown",
   "metadata": {},
   "source": [
    "### Assignment 1: Variables, Strings, Numbers, Lists, and Loops\n",
    "\n",
    "Winter Semester 2025/26\n",
    "\n",
    "Total Score: 20 - 10 points needed to pass\n",
    "\n",
    "Submission Deadline: Monday, October 13, 23:59\n",
    "\n"
   ]
  },
  {
   "cell_type": "markdown",
   "metadata": {},
   "source": [
    "---"
   ]
  },
  {
   "cell_type": "markdown",
   "metadata": {},
   "source": [
    "The code below reads a text file containing an excerpt from the novel \"The Old Man and the Sea\". The text is stored in a variable named text. Before running the code, you need to save the file 'theoldmanandthesea.txt' in your working directory.\n",
    "\n",
    "\n",
    "You can check your current working directory using the following code."
   ]
  },
  {
   "cell_type": "code",
   "execution_count": 1,
   "metadata": {},
   "outputs": [
    {
     "data": {
      "text/plain": [
       "'/home/dgarcia/Dropbox/Teaching/Konstanz/PythonCrashCourse/Day1/assignment_1'"
      ]
     },
     "execution_count": 1,
     "metadata": {},
     "output_type": "execute_result"
    }
   ],
   "source": [
    "import os\n",
    "os.getcwd() # It displays your current working directory."
   ]
  },
  {
   "cell_type": "code",
   "execution_count": 2,
   "metadata": {},
   "outputs": [],
   "source": [
    "with open('theoldmanandthesea.txt', 'r') as f:\n",
    "    text = f.read()"
   ]
  },
  {
   "cell_type": "markdown",
   "metadata": {},
   "source": [
    "## Tasks\n",
    "\n",
    "1. Print the text (1 point)."
   ]
  },
  {
   "cell_type": "code",
   "execution_count": 3,
   "metadata": {},
   "outputs": [
    {
     "name": "stdout",
     "output_type": "stream",
     "text": [
      "He was an old man who fished alone in a skiff in the Gulf Stream and he had gone eighty-four days now without taking a fish. In the first forty days a boy had been with him. But after forty days without a fish the boy's parents had told him that the old man was now definitely and finally salao, which is the worst form of unlucky, and the boy had gone at their orders in another boat which caught three good fish the first week. It made the boy sad to see the old man come in each day with his skiff empty and he always went down to help him carry either the coiled lines or the gaff and harpoon and the sail that was furled around the mast. The sail was patched with flour sacks and, furled, it looked like the flag of permanent defeat.The old man was thin and gaunt with deep wrinkles in the back of his neck. The brown blotches of the benevolent skin cancer the sun brings from its reflection on the tropic sea were on his cheeks. The blotches ran well down the sides of his face and his hands had the deep-creased scars from handling heavy fish on the cords. But none of these scars were fresh. They were as old as erosions in a fishless desert.\n"
     ]
    }
   ],
   "source": [
    "print(text)"
   ]
  },
  {
   "cell_type": "markdown",
   "metadata": {},
   "source": [
    "2. Convert all uppercase characters to lowercase in the text. From now on keep on working with the text converted to lowercase (1 point)."
   ]
  },
  {
   "cell_type": "code",
   "execution_count": 4,
   "metadata": {},
   "outputs": [
    {
     "name": "stdout",
     "output_type": "stream",
     "text": [
      "he was an old man who fished alone in a skiff in the gulf stream and he had gone eighty-four days now without taking a fish. in the first forty days a boy had been with him. but after forty days without a fish the boy's parents had told him that the old man was now definitely and finally salao, which is the worst form of unlucky, and the boy had gone at their orders in another boat which caught three good fish the first week. it made the boy sad to see the old man come in each day with his skiff empty and he always went down to help him carry either the coiled lines or the gaff and harpoon and the sail that was furled around the mast. the sail was patched with flour sacks and, furled, it looked like the flag of permanent defeat.the old man was thin and gaunt with deep wrinkles in the back of his neck. the brown blotches of the benevolent skin cancer the sun brings from its reflection on the tropic sea were on his cheeks. the blotches ran well down the sides of his face and his hands had the deep-creased scars from handling heavy fish on the cords. but none of these scars were fresh. they were as old as erosions in a fishless desert.\n"
     ]
    }
   ],
   "source": [
    "text = text.lower()\n",
    "print(text)"
   ]
  },
  {
   "cell_type": "markdown",
   "metadata": {},
   "source": [
    "3. Split the text into a list of words named **text_split**, where each word is an item in the list (1 point)."
   ]
  },
  {
   "cell_type": "code",
   "execution_count": 5,
   "metadata": {},
   "outputs": [
    {
     "name": "stdout",
     "output_type": "stream",
     "text": [
      "['he', 'was', 'an', 'old', 'man', 'who', 'fished', 'alone', 'in', 'a', 'skiff', 'in', 'the', 'gulf', 'stream', 'and', 'he', 'had', 'gone', 'eighty-four', 'days', 'now', 'without', 'taking', 'a', 'fish.', 'in', 'the', 'first', 'forty', 'days', 'a', 'boy', 'had', 'been', 'with', 'him.', 'but', 'after', 'forty', 'days', 'without', 'a', 'fish', 'the', \"boy's\", 'parents', 'had', 'told', 'him', 'that', 'the', 'old', 'man', 'was', 'now', 'definitely', 'and', 'finally', 'salao,', 'which', 'is', 'the', 'worst', 'form', 'of', 'unlucky,', 'and', 'the', 'boy', 'had', 'gone', 'at', 'their', 'orders', 'in', 'another', 'boat', 'which', 'caught', 'three', 'good', 'fish', 'the', 'first', 'week.', 'it', 'made', 'the', 'boy', 'sad', 'to', 'see', 'the', 'old', 'man', 'come', 'in', 'each', 'day', 'with', 'his', 'skiff', 'empty', 'and', 'he', 'always', 'went', 'down', 'to', 'help', 'him', 'carry', 'either', 'the', 'coiled', 'lines', 'or', 'the', 'gaff', 'and', 'harpoon', 'and', 'the', 'sail', 'that', 'was', 'furled', 'around', 'the', 'mast.', 'the', 'sail', 'was', 'patched', 'with', 'flour', 'sacks', 'and,', 'furled,', 'it', 'looked', 'like', 'the', 'flag', 'of', 'permanent', 'defeat.the', 'old', 'man', 'was', 'thin', 'and', 'gaunt', 'with', 'deep', 'wrinkles', 'in', 'the', 'back', 'of', 'his', 'neck.', 'the', 'brown', 'blotches', 'of', 'the', 'benevolent', 'skin', 'cancer', 'the', 'sun', 'brings', 'from', 'its', 'reflection', 'on', 'the', 'tropic', 'sea', 'were', 'on', 'his', 'cheeks.', 'the', 'blotches', 'ran', 'well', 'down', 'the', 'sides', 'of', 'his', 'face', 'and', 'his', 'hands', 'had', 'the', 'deep-creased', 'scars', 'from', 'handling', 'heavy', 'fish', 'on', 'the', 'cords.', 'but', 'none', 'of', 'these', 'scars', 'were', 'fresh.', 'they', 'were', 'as', 'old', 'as', 'erosions', 'in', 'a', 'fishless', 'desert.']\n"
     ]
    }
   ],
   "source": [
    "text_split = text.split(\" \")\n",
    "print(text_split)"
   ]
  },
  {
   "cell_type": "markdown",
   "metadata": {},
   "source": [
    "4. Count and print the number of words in the list (1 point)."
   ]
  },
  {
   "cell_type": "code",
   "execution_count": 6,
   "metadata": {},
   "outputs": [
    {
     "name": "stdout",
     "output_type": "stream",
     "text": [
      "226\n",
      "226\n"
     ]
    }
   ],
   "source": [
    "print(len(text_split))\n",
    "#also\n",
    "n = 0\n",
    "for word in text_split:\n",
    "    n = n+1\n",
    "print(n)"
   ]
  },
  {
   "cell_type": "markdown",
   "metadata": {},
   "source": [
    "5. Create a variable called **next_text** that contains the following (1 point):\n",
    "\n",
    "    \"Everything about him was old except his eyes and they were the same color as the sea and were cheerful and undefeated.\"\n"
   ]
  },
  {
   "cell_type": "code",
   "execution_count": 7,
   "metadata": {},
   "outputs": [],
   "source": [
    "next_text =  \"Everything about him was old except his eyes and they were the same color as the sea and were cheerful and undefeated.\""
   ]
  },
  {
   "cell_type": "markdown",
   "metadata": {},
   "source": [
    "6. Modify **next_text** so it contains line breaks such that each word is in a new line (2 points). \n",
    "    \n",
    "    Expected output of **print(next_text)** after modification:  \n",
    "\n",
    "    Everything  \n",
    "    about  \n",
    "    him  \n",
    "    was  \n",
    "    old  \n",
    "    except  \n",
    "    ...\n",
    "\n",
    "   You should not use a loop for printing here, you have to modify **next_text**."
   ]
  },
  {
   "cell_type": "code",
   "execution_count": 8,
   "metadata": {},
   "outputs": [
    {
     "name": "stdout",
     "output_type": "stream",
     "text": [
      "Everything\n",
      "about\n",
      "him\n",
      "was\n",
      "old\n",
      "except\n",
      "his\n",
      "eyes\n",
      "and\n",
      "they\n",
      "were\n",
      "the\n",
      "same\n",
      "color\n",
      "as\n",
      "the\n",
      "sea\n",
      "and\n",
      "were\n",
      "cheerful\n",
      "and\n",
      "undefeated.\n"
     ]
    }
   ],
   "source": [
    "next_text = next_text.replace(\" \", \"\\n\")\n",
    "print(next_text)"
   ]
  },
  {
   "cell_type": "markdown",
   "metadata": {},
   "source": [
    "7. Update **text_split** by adding the words from **next_text**, so it becomes a single list (2 points).\n",
    "\n",
    "    Expected outcome of **print(text_split)** after updating it:  \n",
    "    \n",
    "    ['he', 'was', 'an', 'old', 'man',..., 'cheerful', 'and', 'undefeated.']"
   ]
  },
  {
   "cell_type": "code",
   "execution_count": 9,
   "metadata": {},
   "outputs": [
    {
     "name": "stdout",
     "output_type": "stream",
     "text": [
      "['he', 'was', 'an', 'old', 'man', 'who', 'fished', 'alone', 'in', 'a', 'skiff', 'in', 'the', 'gulf', 'stream', 'and', 'he', 'had', 'gone', 'eighty-four', 'days', 'now', 'without', 'taking', 'a', 'fish.', 'in', 'the', 'first', 'forty', 'days', 'a', 'boy', 'had', 'been', 'with', 'him.', 'but', 'after', 'forty', 'days', 'without', 'a', 'fish', 'the', \"boy's\", 'parents', 'had', 'told', 'him', 'that', 'the', 'old', 'man', 'was', 'now', 'definitely', 'and', 'finally', 'salao,', 'which', 'is', 'the', 'worst', 'form', 'of', 'unlucky,', 'and', 'the', 'boy', 'had', 'gone', 'at', 'their', 'orders', 'in', 'another', 'boat', 'which', 'caught', 'three', 'good', 'fish', 'the', 'first', 'week.', 'it', 'made', 'the', 'boy', 'sad', 'to', 'see', 'the', 'old', 'man', 'come', 'in', 'each', 'day', 'with', 'his', 'skiff', 'empty', 'and', 'he', 'always', 'went', 'down', 'to', 'help', 'him', 'carry', 'either', 'the', 'coiled', 'lines', 'or', 'the', 'gaff', 'and', 'harpoon', 'and', 'the', 'sail', 'that', 'was', 'furled', 'around', 'the', 'mast.', 'the', 'sail', 'was', 'patched', 'with', 'flour', 'sacks', 'and,', 'furled,', 'it', 'looked', 'like', 'the', 'flag', 'of', 'permanent', 'defeat.the', 'old', 'man', 'was', 'thin', 'and', 'gaunt', 'with', 'deep', 'wrinkles', 'in', 'the', 'back', 'of', 'his', 'neck.', 'the', 'brown', 'blotches', 'of', 'the', 'benevolent', 'skin', 'cancer', 'the', 'sun', 'brings', 'from', 'its', 'reflection', 'on', 'the', 'tropic', 'sea', 'were', 'on', 'his', 'cheeks.', 'the', 'blotches', 'ran', 'well', 'down', 'the', 'sides', 'of', 'his', 'face', 'and', 'his', 'hands', 'had', 'the', 'deep-creased', 'scars', 'from', 'handling', 'heavy', 'fish', 'on', 'the', 'cords.', 'but', 'none', 'of', 'these', 'scars', 'were', 'fresh.', 'they', 'were', 'as', 'old', 'as', 'erosions', 'in', 'a', 'fishless', 'desert.', 'Everything', 'about', 'him', 'was', 'old', 'except', 'his', 'eyes', 'and', 'they', 'were', 'the', 'same', 'color', 'as', 'the', 'sea', 'and', 'were', 'cheerful', 'and', 'undefeated.']\n"
     ]
    }
   ],
   "source": [
    "text_split = text_split + next_text.split(\"\\n\")\n",
    "print(text_split)\n",
    "# Check that next_text wasn't appended several times and that text_split was properly updated"
   ]
  },
  {
   "cell_type": "markdown",
   "metadata": {},
   "source": [
    "8. Write a code to calculate and print the sum of the lengths of all words in **text_split** using a loop. Print the word, its length, and the cumulative length at each iteration and at the end print the final total count in one line (4 points).\n",
    "   \n",
    "    Example output:  \n",
    "    word: he; length: 2; cumulative count: 2  \n",
    "    word: was; length: 3; cumulative count: 5  \n",
    "    ...  \n",
    "    word: undefeated.; length: 11; cumulative count: 1022\n",
    "\n",
    "    total count : 1022"
   ]
  },
  {
   "cell_type": "code",
   "execution_count": 10,
   "metadata": {},
   "outputs": [
    {
     "name": "stdout",
     "output_type": "stream",
     "text": [
      "word: he; length: 2; cumulative count: 2\n",
      "word: was; length: 3; cumulative count: 5\n",
      "word: an; length: 2; cumulative count: 7\n",
      "word: old; length: 3; cumulative count: 10\n",
      "word: man; length: 3; cumulative count: 13\n",
      "word: who; length: 3; cumulative count: 16\n",
      "word: fished; length: 6; cumulative count: 22\n",
      "word: alone; length: 5; cumulative count: 27\n",
      "word: in; length: 2; cumulative count: 29\n",
      "word: a; length: 1; cumulative count: 30\n",
      "word: skiff; length: 5; cumulative count: 35\n",
      "word: in; length: 2; cumulative count: 37\n",
      "word: the; length: 3; cumulative count: 40\n",
      "word: gulf; length: 4; cumulative count: 44\n",
      "word: stream; length: 6; cumulative count: 50\n",
      "word: and; length: 3; cumulative count: 53\n",
      "word: he; length: 2; cumulative count: 55\n",
      "word: had; length: 3; cumulative count: 58\n",
      "word: gone; length: 4; cumulative count: 62\n",
      "word: eighty-four; length: 11; cumulative count: 73\n",
      "word: days; length: 4; cumulative count: 77\n",
      "word: now; length: 3; cumulative count: 80\n",
      "word: without; length: 7; cumulative count: 87\n",
      "word: taking; length: 6; cumulative count: 93\n",
      "word: a; length: 1; cumulative count: 94\n",
      "word: fish.; length: 5; cumulative count: 99\n",
      "word: in; length: 2; cumulative count: 101\n",
      "word: the; length: 3; cumulative count: 104\n",
      "word: first; length: 5; cumulative count: 109\n",
      "word: forty; length: 5; cumulative count: 114\n",
      "word: days; length: 4; cumulative count: 118\n",
      "word: a; length: 1; cumulative count: 119\n",
      "word: boy; length: 3; cumulative count: 122\n",
      "word: had; length: 3; cumulative count: 125\n",
      "word: been; length: 4; cumulative count: 129\n",
      "word: with; length: 4; cumulative count: 133\n",
      "word: him.; length: 4; cumulative count: 137\n",
      "word: but; length: 3; cumulative count: 140\n",
      "word: after; length: 5; cumulative count: 145\n",
      "word: forty; length: 5; cumulative count: 150\n",
      "word: days; length: 4; cumulative count: 154\n",
      "word: without; length: 7; cumulative count: 161\n",
      "word: a; length: 1; cumulative count: 162\n",
      "word: fish; length: 4; cumulative count: 166\n",
      "word: the; length: 3; cumulative count: 169\n",
      "word: boy's; length: 5; cumulative count: 174\n",
      "word: parents; length: 7; cumulative count: 181\n",
      "word: had; length: 3; cumulative count: 184\n",
      "word: told; length: 4; cumulative count: 188\n",
      "word: him; length: 3; cumulative count: 191\n",
      "word: that; length: 4; cumulative count: 195\n",
      "word: the; length: 3; cumulative count: 198\n",
      "word: old; length: 3; cumulative count: 201\n",
      "word: man; length: 3; cumulative count: 204\n",
      "word: was; length: 3; cumulative count: 207\n",
      "word: now; length: 3; cumulative count: 210\n",
      "word: definitely; length: 10; cumulative count: 220\n",
      "word: and; length: 3; cumulative count: 223\n",
      "word: finally; length: 7; cumulative count: 230\n",
      "word: salao,; length: 6; cumulative count: 236\n",
      "word: which; length: 5; cumulative count: 241\n",
      "word: is; length: 2; cumulative count: 243\n",
      "word: the; length: 3; cumulative count: 246\n",
      "word: worst; length: 5; cumulative count: 251\n",
      "word: form; length: 4; cumulative count: 255\n",
      "word: of; length: 2; cumulative count: 257\n",
      "word: unlucky,; length: 8; cumulative count: 265\n",
      "word: and; length: 3; cumulative count: 268\n",
      "word: the; length: 3; cumulative count: 271\n",
      "word: boy; length: 3; cumulative count: 274\n",
      "word: had; length: 3; cumulative count: 277\n",
      "word: gone; length: 4; cumulative count: 281\n",
      "word: at; length: 2; cumulative count: 283\n",
      "word: their; length: 5; cumulative count: 288\n",
      "word: orders; length: 6; cumulative count: 294\n",
      "word: in; length: 2; cumulative count: 296\n",
      "word: another; length: 7; cumulative count: 303\n",
      "word: boat; length: 4; cumulative count: 307\n",
      "word: which; length: 5; cumulative count: 312\n",
      "word: caught; length: 6; cumulative count: 318\n",
      "word: three; length: 5; cumulative count: 323\n",
      "word: good; length: 4; cumulative count: 327\n",
      "word: fish; length: 4; cumulative count: 331\n",
      "word: the; length: 3; cumulative count: 334\n",
      "word: first; length: 5; cumulative count: 339\n",
      "word: week.; length: 5; cumulative count: 344\n",
      "word: it; length: 2; cumulative count: 346\n",
      "word: made; length: 4; cumulative count: 350\n",
      "word: the; length: 3; cumulative count: 353\n",
      "word: boy; length: 3; cumulative count: 356\n",
      "word: sad; length: 3; cumulative count: 359\n",
      "word: to; length: 2; cumulative count: 361\n",
      "word: see; length: 3; cumulative count: 364\n",
      "word: the; length: 3; cumulative count: 367\n",
      "word: old; length: 3; cumulative count: 370\n",
      "word: man; length: 3; cumulative count: 373\n",
      "word: come; length: 4; cumulative count: 377\n",
      "word: in; length: 2; cumulative count: 379\n",
      "word: each; length: 4; cumulative count: 383\n",
      "word: day; length: 3; cumulative count: 386\n",
      "word: with; length: 4; cumulative count: 390\n",
      "word: his; length: 3; cumulative count: 393\n",
      "word: skiff; length: 5; cumulative count: 398\n",
      "word: empty; length: 5; cumulative count: 403\n",
      "word: and; length: 3; cumulative count: 406\n",
      "word: he; length: 2; cumulative count: 408\n",
      "word: always; length: 6; cumulative count: 414\n",
      "word: went; length: 4; cumulative count: 418\n",
      "word: down; length: 4; cumulative count: 422\n",
      "word: to; length: 2; cumulative count: 424\n",
      "word: help; length: 4; cumulative count: 428\n",
      "word: him; length: 3; cumulative count: 431\n",
      "word: carry; length: 5; cumulative count: 436\n",
      "word: either; length: 6; cumulative count: 442\n",
      "word: the; length: 3; cumulative count: 445\n",
      "word: coiled; length: 6; cumulative count: 451\n",
      "word: lines; length: 5; cumulative count: 456\n",
      "word: or; length: 2; cumulative count: 458\n",
      "word: the; length: 3; cumulative count: 461\n",
      "word: gaff; length: 4; cumulative count: 465\n",
      "word: and; length: 3; cumulative count: 468\n",
      "word: harpoon; length: 7; cumulative count: 475\n",
      "word: and; length: 3; cumulative count: 478\n",
      "word: the; length: 3; cumulative count: 481\n",
      "word: sail; length: 4; cumulative count: 485\n",
      "word: that; length: 4; cumulative count: 489\n",
      "word: was; length: 3; cumulative count: 492\n",
      "word: furled; length: 6; cumulative count: 498\n",
      "word: around; length: 6; cumulative count: 504\n",
      "word: the; length: 3; cumulative count: 507\n",
      "word: mast.; length: 5; cumulative count: 512\n",
      "word: the; length: 3; cumulative count: 515\n",
      "word: sail; length: 4; cumulative count: 519\n",
      "word: was; length: 3; cumulative count: 522\n",
      "word: patched; length: 7; cumulative count: 529\n",
      "word: with; length: 4; cumulative count: 533\n",
      "word: flour; length: 5; cumulative count: 538\n",
      "word: sacks; length: 5; cumulative count: 543\n",
      "word: and,; length: 4; cumulative count: 547\n",
      "word: furled,; length: 7; cumulative count: 554\n",
      "word: it; length: 2; cumulative count: 556\n",
      "word: looked; length: 6; cumulative count: 562\n",
      "word: like; length: 4; cumulative count: 566\n",
      "word: the; length: 3; cumulative count: 569\n",
      "word: flag; length: 4; cumulative count: 573\n",
      "word: of; length: 2; cumulative count: 575\n",
      "word: permanent; length: 9; cumulative count: 584\n",
      "word: defeat.the; length: 10; cumulative count: 594\n",
      "word: old; length: 3; cumulative count: 597\n",
      "word: man; length: 3; cumulative count: 600\n",
      "word: was; length: 3; cumulative count: 603\n",
      "word: thin; length: 4; cumulative count: 607\n",
      "word: and; length: 3; cumulative count: 610\n",
      "word: gaunt; length: 5; cumulative count: 615\n",
      "word: with; length: 4; cumulative count: 619\n",
      "word: deep; length: 4; cumulative count: 623\n",
      "word: wrinkles; length: 8; cumulative count: 631\n",
      "word: in; length: 2; cumulative count: 633\n",
      "word: the; length: 3; cumulative count: 636\n",
      "word: back; length: 4; cumulative count: 640\n",
      "word: of; length: 2; cumulative count: 642\n",
      "word: his; length: 3; cumulative count: 645\n",
      "word: neck.; length: 5; cumulative count: 650\n",
      "word: the; length: 3; cumulative count: 653\n",
      "word: brown; length: 5; cumulative count: 658\n",
      "word: blotches; length: 8; cumulative count: 666\n",
      "word: of; length: 2; cumulative count: 668\n",
      "word: the; length: 3; cumulative count: 671\n",
      "word: benevolent; length: 10; cumulative count: 681\n",
      "word: skin; length: 4; cumulative count: 685\n",
      "word: cancer; length: 6; cumulative count: 691\n",
      "word: the; length: 3; cumulative count: 694\n",
      "word: sun; length: 3; cumulative count: 697\n",
      "word: brings; length: 6; cumulative count: 703\n",
      "word: from; length: 4; cumulative count: 707\n",
      "word: its; length: 3; cumulative count: 710\n",
      "word: reflection; length: 10; cumulative count: 720\n",
      "word: on; length: 2; cumulative count: 722\n",
      "word: the; length: 3; cumulative count: 725\n",
      "word: tropic; length: 6; cumulative count: 731\n",
      "word: sea; length: 3; cumulative count: 734\n",
      "word: were; length: 4; cumulative count: 738\n",
      "word: on; length: 2; cumulative count: 740\n",
      "word: his; length: 3; cumulative count: 743\n",
      "word: cheeks.; length: 7; cumulative count: 750\n",
      "word: the; length: 3; cumulative count: 753\n",
      "word: blotches; length: 8; cumulative count: 761\n",
      "word: ran; length: 3; cumulative count: 764\n",
      "word: well; length: 4; cumulative count: 768\n",
      "word: down; length: 4; cumulative count: 772\n",
      "word: the; length: 3; cumulative count: 775\n",
      "word: sides; length: 5; cumulative count: 780\n",
      "word: of; length: 2; cumulative count: 782\n",
      "word: his; length: 3; cumulative count: 785\n",
      "word: face; length: 4; cumulative count: 789\n",
      "word: and; length: 3; cumulative count: 792\n",
      "word: his; length: 3; cumulative count: 795\n",
      "word: hands; length: 5; cumulative count: 800\n",
      "word: had; length: 3; cumulative count: 803\n",
      "word: the; length: 3; cumulative count: 806\n",
      "word: deep-creased; length: 12; cumulative count: 818\n",
      "word: scars; length: 5; cumulative count: 823\n",
      "word: from; length: 4; cumulative count: 827\n",
      "word: handling; length: 8; cumulative count: 835\n",
      "word: heavy; length: 5; cumulative count: 840\n",
      "word: fish; length: 4; cumulative count: 844\n",
      "word: on; length: 2; cumulative count: 846\n",
      "word: the; length: 3; cumulative count: 849\n",
      "word: cords.; length: 6; cumulative count: 855\n",
      "word: but; length: 3; cumulative count: 858\n",
      "word: none; length: 4; cumulative count: 862\n",
      "word: of; length: 2; cumulative count: 864\n",
      "word: these; length: 5; cumulative count: 869\n",
      "word: scars; length: 5; cumulative count: 874\n",
      "word: were; length: 4; cumulative count: 878\n",
      "word: fresh.; length: 6; cumulative count: 884\n",
      "word: they; length: 4; cumulative count: 888\n",
      "word: were; length: 4; cumulative count: 892\n",
      "word: as; length: 2; cumulative count: 894\n",
      "word: old; length: 3; cumulative count: 897\n",
      "word: as; length: 2; cumulative count: 899\n",
      "word: erosions; length: 8; cumulative count: 907\n",
      "word: in; length: 2; cumulative count: 909\n",
      "word: a; length: 1; cumulative count: 910\n",
      "word: fishless; length: 8; cumulative count: 918\n",
      "word: desert.; length: 7; cumulative count: 925\n",
      "word: Everything; length: 10; cumulative count: 935\n",
      "word: about; length: 5; cumulative count: 940\n",
      "word: him; length: 3; cumulative count: 943\n",
      "word: was; length: 3; cumulative count: 946\n",
      "word: old; length: 3; cumulative count: 949\n",
      "word: except; length: 6; cumulative count: 955\n",
      "word: his; length: 3; cumulative count: 958\n",
      "word: eyes; length: 4; cumulative count: 962\n",
      "word: and; length: 3; cumulative count: 965\n",
      "word: they; length: 4; cumulative count: 969\n",
      "word: were; length: 4; cumulative count: 973\n",
      "word: the; length: 3; cumulative count: 976\n",
      "word: same; length: 4; cumulative count: 980\n",
      "word: color; length: 5; cumulative count: 985\n",
      "word: as; length: 2; cumulative count: 987\n",
      "word: the; length: 3; cumulative count: 990\n",
      "word: sea; length: 3; cumulative count: 993\n",
      "word: and; length: 3; cumulative count: 996\n",
      "word: were; length: 4; cumulative count: 1000\n",
      "word: cheerful; length: 8; cumulative count: 1008\n",
      "word: and; length: 3; cumulative count: 1011\n",
      "word: undefeated.; length: 11; cumulative count: 1022\n",
      "total count: 1022\n"
     ]
    }
   ],
   "source": [
    "total = 0\n",
    "for word in text_split:\n",
    "    total += len(word)\n",
    "    print(\"word: {}; length: {}; cumulative count: {}\".format(word,len(word),total))\n",
    "print(\"total count:\", total)\n"
   ]
  },
  {
   "cell_type": "markdown",
   "metadata": {},
   "source": [
    "9. Create a list named **len_of_words** containing the length of each word in text_split (4 points).\n",
    "\n",
    "    [2, 3, 2, 3, 3, 3, ...]"
   ]
  },
  {
   "cell_type": "code",
   "execution_count": 11,
   "metadata": {},
   "outputs": [
    {
     "name": "stdout",
     "output_type": "stream",
     "text": [
      "[2, 3, 2, 3, 3, 3, 6, 5, 2, 1, 5, 2, 3, 4, 6, 3, 2, 3, 4, 11, 4, 3, 7, 6, 1, 5, 2, 3, 5, 5, 4, 1, 3, 3, 4, 4, 4, 3, 5, 5, 4, 7, 1, 4, 3, 5, 7, 3, 4, 3, 4, 3, 3, 3, 3, 3, 10, 3, 7, 6, 5, 2, 3, 5, 4, 2, 8, 3, 3, 3, 3, 4, 2, 5, 6, 2, 7, 4, 5, 6, 5, 4, 4, 3, 5, 5, 2, 4, 3, 3, 3, 2, 3, 3, 3, 3, 4, 2, 4, 3, 4, 3, 5, 5, 3, 2, 6, 4, 4, 2, 4, 3, 5, 6, 3, 6, 5, 2, 3, 4, 3, 7, 3, 3, 4, 4, 3, 6, 6, 3, 5, 3, 4, 3, 7, 4, 5, 5, 4, 7, 2, 6, 4, 3, 4, 2, 9, 10, 3, 3, 3, 4, 3, 5, 4, 4, 8, 2, 3, 4, 2, 3, 5, 3, 5, 8, 2, 3, 10, 4, 6, 3, 3, 6, 4, 3, 10, 2, 3, 6, 3, 4, 2, 3, 7, 3, 8, 3, 4, 4, 3, 5, 2, 3, 4, 3, 3, 5, 3, 3, 12, 5, 4, 8, 5, 4, 2, 3, 6, 3, 4, 2, 5, 5, 4, 6, 4, 4, 2, 3, 2, 8, 2, 1, 8, 7, 10, 5, 3, 3, 3, 6, 3, 4, 3, 4, 4, 3, 4, 5, 2, 3, 3, 3, 4, 8, 3, 11]\n"
     ]
    }
   ],
   "source": [
    "len_of_words = list()\n",
    "for word in text_split:\n",
    "    len_of_words.append(len(word))\n",
    "print(len_of_words)"
   ]
  },
  {
   "cell_type": "markdown",
   "metadata": {},
   "source": [
    "10. Find and print the length of the longest word in the text (1 point)."
   ]
  },
  {
   "cell_type": "code",
   "execution_count": 12,
   "metadata": {},
   "outputs": [
    {
     "name": "stdout",
     "output_type": "stream",
     "text": [
      "12\n",
      "12\n"
     ]
    }
   ],
   "source": [
    "print(max(len_of_words))\n",
    "\n",
    "# another way\n",
    "maxlen = 0\n",
    "for l in len_of_words:\n",
    "    if maxlen<l:\n",
    "        maxlen=l\n",
    "print(maxlen)"
   ]
  },
  {
   "cell_type": "markdown",
   "metadata": {},
   "source": [
    "11. Identify and print the longest word using the index from **len_of_words** (2 points)."
   ]
  },
  {
   "cell_type": "code",
   "execution_count": 13,
   "metadata": {},
   "outputs": [
    {
     "name": "stdout",
     "output_type": "stream",
     "text": [
      "deep-creased\n",
      "deep-creased\n"
     ]
    }
   ],
   "source": [
    "maxlen = 0\n",
    "index = 0\n",
    "for i,l in enumerate(len_of_words):\n",
    "    if maxlen<l:\n",
    "        maxlen=l\n",
    "        index=i\n",
    "print(text_split[index])\n",
    "\n",
    "#another way \n",
    "\n",
    "print(text_split[len_of_words.index(12)])"
   ]
  }
 ],
 "metadata": {
  "kernelspec": {
   "display_name": "Python [conda env:base] *",
   "language": "python",
   "name": "conda-base-py"
  },
  "language_info": {
   "codemirror_mode": {
    "name": "ipython",
    "version": 3
   },
   "file_extension": ".py",
   "mimetype": "text/x-python",
   "name": "python",
   "nbconvert_exporter": "python",
   "pygments_lexer": "ipython3",
   "version": "3.13.5"
  }
 },
 "nbformat": 4,
 "nbformat_minor": 4
}
