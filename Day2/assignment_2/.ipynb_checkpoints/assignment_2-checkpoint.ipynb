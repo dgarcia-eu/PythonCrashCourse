{
 "cells": [
  {
   "cell_type": "markdown",
   "metadata": {},
   "source": [
    "# Assignment 2: Lists, Tuples, Sets, Comprehensions, and if-statements\n",
    "\n",
    "Winter Semester 2025/26\n",
    "\n",
    "Total Score: 20 + 3 bonus points\n",
    "\n",
    "Submission Deadline: Monday, October 13, 23:59\n",
    "\n",
    "Submission Deadline: Monday, October 14, 23:59"
   ]
  },
  {
   "cell_type": "markdown",
   "metadata": {},
   "source": [
    "## Task 1 (Total: 5 points)\n"
   ]
  },
  {
   "cell_type": "markdown",
   "metadata": {},
   "source": [
    "1. Make a list of names that includes at least four people. # 0 point\n",
    "2. Write an if test that prints a message about the room being crowded, if there are more than three people in your list. # 1 point\n",
    "3. Modify your list so that there are only two people in it. Use one of the methods for removing people from the list, don't just redefine the list. # 1 point\n",
    "4. Run your if test again. There should be no output this time, because there are less than three people in the list. # 1 point\n",
    "5. Add an `else` statement to your if tests. If the `else` statement is run, have it print a message that the room is not very crowded. # 1 point\n",
    "6. Modify your if test so that\n",
    "  - If there are more than 5 people, a message is printed about the room being very crowded.\n",
    "  - If there are 3-5 people, a message is printed about the room being crowded.\n",
    "  - If there are 1 or 2 people, a message is printed about the room not being crowded.\n",
    "  - If there are no people in the room, a message is printed abou the room being empty. # 1 point"
   ]
  },
  {
   "cell_type": "code",
   "execution_count": null,
   "metadata": {},
   "outputs": [],
   "source": [
    "# Your code"
   ]
  },
  {
   "cell_type": "markdown",
   "metadata": {},
   "source": [
    "## Task 2 (Total: 9 points)\n",
    "\n",
    "The code below reads a pickle file containing date information about when tweets were published. The data is stored in a variable named `date`. Before running the code, you need to save the file \"date_example.pickle\" in your working directory."
   ]
  },
  {
   "cell_type": "code",
   "execution_count": null,
   "metadata": {},
   "outputs": [],
   "source": [
    "import pickle\n",
    "\n",
    "with open('date_example.pickle', 'rb') as handle:\n",
    "    date = pickle.load(handle)"
   ]
  },
  {
   "cell_type": "code",
   "execution_count": null,
   "metadata": {},
   "outputs": [],
   "source": [
    "print(date)"
   ]
  },
  {
   "cell_type": "markdown",
   "metadata": {},
   "source": [
    "1. Using `date`, create a new list containing only the months, day, and year for each date, in the following format. Use slicing and comprehensions. # 3 points\n",
    "\n",
    "```python\n",
    "    ['Feb 09 2020', 'Feb 09 2020', 'Feb 09 2020',...,'Feb 03 2020', 'Feb 03 2020']\n"
   ]
  },
  {
   "cell_type": "code",
   "execution_count": null,
   "metadata": {},
   "outputs": [],
   "source": [
    "# Your code"
   ]
  },
  {
   "cell_type": "markdown",
   "metadata": {},
   "source": [
    "2. Create the date list from Task 1 to the format 'YYYY-MM-DD' using the datetime library. # 3 points\n",
    "\n",
    "```Python\n",
    "    ['2020-02-09', '2020-02-09',..., '2020-02-03', '2020-02-03']"
   ]
  },
  {
   "cell_type": "code",
   "execution_count": null,
   "metadata": {},
   "outputs": [],
   "source": [
    "# Hint: \n",
    "from datetime import datetime\n",
    "example = datetime.strptime('Feb 07 2020', '%b %d %Y')\n",
    "print(example.strftime(\"%Y-%m-%d\"))"
   ]
  },
  {
   "cell_type": "code",
   "execution_count": null,
   "metadata": {},
   "outputs": [],
   "source": [
    "# Your code"
   ]
  },
  {
   "cell_type": "markdown",
   "metadata": {},
   "source": [
    "3. Use the list from Task 2 to create a list of tuples where each tuple contains a unique date and the count of its occurrences. Use comprehension. # 3 point\n",
    "   \n",
    "\n",
    "```Python\n",
    "[('2020-02-05', 1701),\n",
    " ('2020-02-06', 620),\n",
    " ('2020-02-08', 410),\n",
    " ('2020-02-03', 962),\n",
    " ('2020-02-09', 336),\n",
    " ('2020-02-04', 937),\n",
    " ('2020-02-07', 735)]\n"
   ]
  },
  {
   "cell_type": "code",
   "execution_count": null,
   "metadata": {},
   "outputs": [],
   "source": [
    "# Your code"
   ]
  },
  {
   "cell_type": "markdown",
   "metadata": {},
   "source": [
    "## Task 3. (Total: 6 points + 3 Bonus points)\n",
    "You have retweet data for five users, labeled **a, b, c, d, and e**. Each user list contains usernames of people who retweeted them. Your task is to find user pairs who have mutually retweeted each other."
   ]
  },
  {
   "cell_type": "code",
   "execution_count": null,
   "metadata": {},
   "outputs": [],
   "source": [
    "user_a = ['b','c','e','h','r','b','b','c','h'] # User A is retweeted by user B, C, E, H...\n",
    "user_b = ['a','c','a','h','z'] # User B is retweeted by user A, C, A,...\n",
    "user_c = ['a','d','d']\n",
    "user_d = ['a','b','e','a']\n",
    "user_e = ['d','c','b','b']"
   ]
  },
  {
   "cell_type": "markdown",
   "metadata": {},
   "source": [
    "1. Create a list named **retweet_pair** containing tuples with user retweet information. Each tuple should represent a retweet relationship. For example, (user1, user2) indicates that 'user1' was retweeted by 'user2'. This list should include all retweet relationships among the users. The list should look like the following. # 3 point\n",
    "```python\n",
    "    [('a','b'), ('a', 'c'), ('a', 'h'),..., ('e', 'b'), ('e', 'c'), ('e', 'd')]\n"
   ]
  },
  {
   "cell_type": "code",
   "execution_count": null,
   "metadata": {},
   "outputs": [],
   "source": [
    "# Your code"
   ]
  },
  {
   "cell_type": "markdown",
   "metadata": {},
   "source": [
    "2. Use **retweet_pairs** to find pairs of users who have mutually retweeted each other. Store those users in a set named **mutual_pairs** and print it. # 3 points + 3 Bonus points\n",
    "   \n",
    "   Hint! Those functions might be helpful:\n",
    "   - sorted() : sort items in a list.\n",
    "   - tuple() : converts a list to a tuple.\n",
    "   - set_var.add() : adds items to a set (ensure the item is immutable)."
   ]
  },
  {
   "cell_type": "code",
   "execution_count": null,
   "metadata": {},
   "outputs": [],
   "source": [
    "# Your code"
   ]
  }
 ],
 "metadata": {
  "kernelspec": {
   "display_name": "Python [conda env:base] *",
   "language": "python",
   "name": "conda-base-py"
  },
  "language_info": {
   "codemirror_mode": {
    "name": "ipython",
    "version": 3
   },
   "file_extension": ".py",
   "mimetype": "text/x-python",
   "name": "python",
   "nbconvert_exporter": "python",
   "pygments_lexer": "ipython3",
   "version": "3.13.5"
  }
 },
 "nbformat": 4,
 "nbformat_minor": 4
}
